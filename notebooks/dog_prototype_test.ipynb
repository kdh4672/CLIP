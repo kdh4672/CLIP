{
 "cells": [
  {
   "cell_type": "code",
   "execution_count": 1,
   "id": "0537b100",
   "metadata": {},
   "outputs": [],
   "source": [
    "import sys\n",
    "sys.path.append('..')\n",
    "from re import L\n",
    "import torch\n",
    "from torchvision import transforms, datasets, models\n",
    "import clip\n",
    "import torch.nn as nn\n",
    "import matplotlib.pyplot as plt\n",
    "import numpy as np\n",
    "import torch.nn.functional as F\n",
    "import os\n",
    "import kclip.model\n",
    "import torch.optim as optim\n",
    "import pytorch_model_summary\n",
    "import numpy as np\n",
    "tree_path = '../ImageNet21K/resources/imagenet21k_miil_tree.pth'\n",
    "tree = torch.load(tree_path)\n",
    "class_tree_list = tree['class_tree_list']\n",
    "class_names = np.array(list(tree['class_description'].values()))\n",
    "batch_size = 50"
   ]
  },
  {
   "cell_type": "code",
   "execution_count": 2,
   "id": "306d2c51",
   "metadata": {},
   "outputs": [],
   "source": [
    "model, preprocess = clip.load(\"ViT-B/32\")\n",
    "image_path = '../dog_data/images/Images/'"
   ]
  },
  {
   "cell_type": "code",
   "execution_count": 3,
   "id": "3b693693",
   "metadata": {},
   "outputs": [],
   "source": [
    "dataset = datasets.ImageFolder(root=image_path, transform=preprocess)\n",
    "dataloader = torch.utils.data.DataLoader(dataset, batch_size=batch_size,\n",
    "                                         shuffle=True)"
   ]
  },
  {
   "cell_type": "code",
   "execution_count": 4,
   "id": "9261a2d7",
   "metadata": {},
   "outputs": [
    {
     "data": {
      "text/plain": [
       "20580"
      ]
     },
     "execution_count": 4,
     "metadata": {},
     "output_type": "execute_result"
    }
   ],
   "source": [
    "len(dataset)"
   ]
  },
  {
   "cell_type": "code",
   "execution_count": 5,
   "id": "0cf1a26f",
   "metadata": {},
   "outputs": [
    {
     "data": {
      "text/plain": [
       "120"
      ]
     },
     "execution_count": 5,
     "metadata": {},
     "output_type": "execute_result"
    }
   ],
   "source": [
    "len(dataset.classes)"
   ]
  },
  {
   "cell_type": "code",
   "execution_count": 6,
   "id": "c26e0a55",
   "metadata": {},
   "outputs": [
    {
     "data": {
      "text/plain": [
       "165"
      ]
     },
     "execution_count": 6,
     "metadata": {},
     "output_type": "execute_result"
    }
   ],
   "source": [
    "f = open(\"../ImageNet21K/animal_word.txt\", 'r')\n",
    "list_ = []\n",
    "while True:\n",
    "    line = f.readline().strip()\n",
    "    if not line: break\n",
    "    list_.append(line)\n",
    "\n",
    "f.close()\n",
    "# print(dict_.keys())\n",
    "# print(len(dict_))\n",
    "dog_text_list = []\n",
    "for item in list_:\n",
    "    if 'dog' in item:\n",
    "        dog_text_list.append(item)\n",
    "#         print(item)\n",
    "# print(dog_text_list)\n",
    "text_list = ['a photo of a '+ txt.replace(\"/\", \" of \") for txt in dog_text_list]\n",
    "text_list = [txt.replace(\"_\", \" \") for txt in text_list]\n",
    "len(text_list)"
   ]
  },
  {
   "cell_type": "code",
   "execution_count": 7,
   "id": "10d9b2e8",
   "metadata": {},
   "outputs": [],
   "source": [
    "text_inputs = clip.tokenize(text_list).cuda()\n",
    "text_features = model.encode_text(text_inputs)\n",
    "text_features /= text_features.norm(dim=-1, keepdim=True)"
   ]
  },
  {
   "cell_type": "code",
   "execution_count": 8,
   "id": "a046f8c1",
   "metadata": {},
   "outputs": [
    {
     "name": "stdout",
     "output_type": "stream",
     "text": [
      "torch.Size([50, 512])\n"
     ]
    }
   ],
   "source": [
    "for i,data in enumerate(dataloader,0):\n",
    "    images , _ = data\n",
    "    images = images.cuda()\n",
    "    image_features = model.encode_image(images)\n",
    "    image_features /= image_features.norm(dim=-1, keepdim=True)\n",
    "    if i == 0:\n",
    "        break\n",
    "print(image_features.shape)"
   ]
  },
  {
   "cell_type": "code",
   "execution_count": 9,
   "id": "e58f5f59",
   "metadata": {},
   "outputs": [
    {
     "name": "stdout",
     "output_type": "stream",
     "text": [
      "torch.Size([165, 512])\n"
     ]
    }
   ],
   "source": [
    "print(text_features.shape)"
   ]
  },
  {
   "cell_type": "code",
   "execution_count": 10,
   "id": "ce6e81a2",
   "metadata": {},
   "outputs": [],
   "source": [
    "similarity = (100.0 * image_features @ text_features.T).softmax(dim=-1)"
   ]
  },
  {
   "cell_type": "code",
   "execution_count": 11,
   "id": "9bd8556a",
   "metadata": {},
   "outputs": [
    {
     "data": {
      "text/plain": [
       "torch.Size([50, 165])"
      ]
     },
     "execution_count": 11,
     "metadata": {},
     "output_type": "execute_result"
    }
   ],
   "source": [
    "similarity.shape"
   ]
  },
  {
   "cell_type": "code",
   "execution_count": 12,
   "id": "94065ee3",
   "metadata": {},
   "outputs": [],
   "source": [
    "values, indices = similarity[0].topk(1)"
   ]
  },
  {
   "cell_type": "code",
   "execution_count": 20,
   "id": "c5519aff",
   "metadata": {},
   "outputs": [
    {
     "data": {
      "text/plain": [
       "[(4, 29),\n",
       " (3, 28),\n",
       " (122, 23),\n",
       " (5, 19),\n",
       " (99, 18),\n",
       " (73, 17),\n",
       " (7, 17),\n",
       " (66, 15),\n",
       " (37, 13),\n",
       " (102, 12),\n",
       " (16, 12),\n",
       " (18, 12),\n",
       " (67, 12),\n",
       " (100, 11),\n",
       " (59, 11),\n",
       " (139, 11),\n",
       " (27, 11),\n",
       " (28, 10),\n",
       " (25, 10),\n",
       " (69, 10),\n",
       " (39, 10),\n",
       " (26, 10),\n",
       " (22, 9),\n",
       " (24, 9),\n",
       " (40, 9),\n",
       " (72, 9),\n",
       " (150, 9),\n",
       " (82, 9),\n",
       " (20, 9),\n",
       " (142, 9),\n",
       " (135, 8),\n",
       " (112, 8),\n",
       " (104, 8),\n",
       " (145, 8),\n",
       " (109, 8),\n",
       " (53, 8),\n",
       " (21, 8),\n",
       " (48, 8),\n",
       " (74, 8),\n",
       " (64, 8),\n",
       " (143, 8),\n",
       " (9, 8),\n",
       " (108, 8),\n",
       " (114, 7),\n",
       " (120, 7),\n",
       " (119, 7),\n",
       " (121, 7),\n",
       " (49, 7),\n",
       " (47, 7),\n",
       " (46, 7),\n",
       " (52, 7),\n",
       " (15, 7),\n",
       " (60, 7),\n",
       " (51, 7),\n",
       " (30, 7),\n",
       " (76, 7),\n",
       " (65, 7),\n",
       " (23, 7),\n",
       " (41, 7),\n",
       " (63, 7),\n",
       " (115, 7),\n",
       " (105, 7),\n",
       " (43, 7),\n",
       " (62, 7),\n",
       " (116, 6),\n",
       " (45, 6),\n",
       " (44, 6),\n",
       " (34, 6),\n",
       " (125, 6),\n",
       " (29, 6),\n",
       " (123, 6),\n",
       " (131, 6),\n",
       " (101, 6),\n",
       " (77, 6),\n",
       " (111, 6),\n",
       " (79, 6),\n",
       " (10, 6),\n",
       " (11, 6),\n",
       " (164, 6),\n",
       " (13, 6),\n",
       " (70, 6),\n",
       " (103, 6),\n",
       " (157, 6),\n",
       " (113, 5),\n",
       " (50, 5),\n",
       " (32, 5),\n",
       " (84, 5),\n",
       " (95, 5),\n",
       " (130, 5),\n",
       " (83, 5),\n",
       " (144, 5),\n",
       " (78, 5),\n",
       " (80, 5),\n",
       " (8, 5),\n",
       " (35, 5),\n",
       " (148, 5),\n",
       " (106, 5),\n",
       " (36, 4),\n",
       " (68, 4),\n",
       " (38, 4),\n",
       " (124, 4),\n",
       " (89, 4),\n",
       " (12, 4),\n",
       " (90, 4),\n",
       " (127, 4),\n",
       " (129, 4),\n",
       " (61, 4),\n",
       " (141, 4),\n",
       " (6, 4),\n",
       " (107, 4),\n",
       " (140, 4),\n",
       " (158, 4),\n",
       " (149, 4),\n",
       " (71, 4),\n",
       " (31, 4),\n",
       " (19, 4),\n",
       " (56, 4),\n",
       " (134, 3),\n",
       " (117, 3),\n",
       " (151, 3),\n",
       " (146, 3),\n",
       " (132, 3),\n",
       " (88, 3),\n",
       " (55, 3),\n",
       " (85, 3),\n",
       " (92, 3),\n",
       " (133, 3),\n",
       " (126, 3),\n",
       " (159, 3),\n",
       " (42, 3),\n",
       " (75, 3),\n",
       " (154, 3),\n",
       " (94, 3),\n",
       " (91, 3),\n",
       " (14, 3),\n",
       " (54, 3),\n",
       " (137, 2),\n",
       " (136, 2),\n",
       " (152, 2),\n",
       " (153, 2),\n",
       " (17, 2),\n",
       " (93, 2),\n",
       " (161, 2),\n",
       " (81, 2),\n",
       " (147, 2),\n",
       " (110, 2),\n",
       " (160, 2),\n",
       " (87, 2),\n",
       " (57, 2),\n",
       " (33, 1),\n",
       " (58, 1),\n",
       " (128, 1),\n",
       " (118, 1),\n",
       " (97, 1),\n",
       " (155, 1),\n",
       " (156, 1),\n",
       " (86, 1),\n",
       " (138, 1)]"
      ]
     },
     "execution_count": 20,
     "metadata": {},
     "output_type": "execute_result"
    }
   ],
   "source": [
    "label_dict = {}\n",
    "for i in range(len(similarity)):\n",
    "    values, indices = similarity[i].topk(20)\n",
    "    for j in range(len(indices)):\n",
    "        try:\n",
    "            label_dict[indices[j].item()] += 1\n",
    "        except:\n",
    "            label_dict[indices[j].item()] = 1\n",
    "sorted(label_dict.items(),  reverse=True, key = lambda item: item[1])\n",
    "\n",
    "\n",
    "# print(text_list[10])\n",
    "# print()\n",
    "# for "
   ]
  },
  {
   "cell_type": "code",
   "execution_count": 28,
   "id": "ac349563",
   "metadata": {},
   "outputs": [
    {
     "data": {
      "text/plain": [
       "torch.return_types.topk(\n",
       "values=tensor([1.5820, 1.4375, 1.3418, 1.2041, 1.1836, 1.1211, 1.0811, 0.9697, 0.9434,\n",
       "        0.9028, 0.8892, 0.7251, 0.7241, 0.7119, 0.7051, 0.6880, 0.6553, 0.6528,\n",
       "        0.6045, 0.5942, 0.5835, 0.5737, 0.5347, 0.5342, 0.5234, 0.5229, 0.5190,\n",
       "        0.5083, 0.4902, 0.4839, 0.4670, 0.4651, 0.4626, 0.4531, 0.4531, 0.4504,\n",
       "        0.4463, 0.4456, 0.3987, 0.3972, 0.3940, 0.3896, 0.3838, 0.3735, 0.3550,\n",
       "        0.3408, 0.3384, 0.3364, 0.3335, 0.3259], device='cuda:0',\n",
       "       dtype=torch.float16, grad_fn=<TopkBackward0>),\n",
       "indices=tensor([160,  20, 143, 141,  21,  32, 120,  88, 139,   8,  86,  11,  70, 124,\n",
       "         80, 121, 146,  15,  69,  24,  64, 113,  49, 115,  68,  17,  59,  27,\n",
       "          4,   3,  67, 137,  44,  39, 128,   7, 112, 140,  50,  72,  66, 114,\n",
       "        101,  47,  34, 131, 104, 144, 127,   5], device='cuda:0'))"
      ]
     },
     "execution_count": 28,
     "metadata": {},
     "output_type": "execute_result"
    }
   ],
   "source": [
    "similarity.sum(dim=0).topk(50)"
   ]
  },
  {
   "cell_type": "code",
   "execution_count": 45,
   "id": "243e7c45",
   "metadata": {},
   "outputs": [
    {
     "name": "stdout",
     "output_type": "stream",
     "text": [
      "a photo of a dogfish of shark of elasmobranch of fish of vertebrate of animal\n",
      "a photo of a smoothhound of dogfish of shark of elasmobranch of fish of vertebrate of animal\n",
      "a photo of a whitetip_shark of dogfish of shark of elasmobranch of fish of vertebrate of animal\n",
      "a photo of a dog of domestic_animal of animal\n",
      "a photo of a pooch of dog of domestic_animal of animal\n",
      "a photo of a cur of dog of domestic_animal of animal\n",
      "a photo of a lapdog of dog of domestic_animal of animal\n",
      "a photo of a toy_dog of dog of domestic_animal of animal\n",
      "a photo of a Chihuahua of toy_dog of dog of domestic_animal of animal\n",
      "a photo of a Maltese_dog of toy_dog of dog of domestic_animal of animal\n",
      "a photo of a Pekinese of toy_dog of dog of domestic_animal of animal\n",
      "a photo of a Shih-Tzu of toy_dog of dog of domestic_animal of animal\n",
      "a photo of a Blenheim_spaniel of toy_dog of dog of domestic_animal of animal\n",
      "a photo of a King_Charles_spaniel of toy_dog of dog of domestic_animal of animal\n",
      "a photo of a papillon of toy_dog of dog of domestic_animal of animal\n",
      "a photo of a toy_terrier of toy_dog of dog of domestic_animal of animal\n",
      "a photo of a hunting_dog of dog of domestic_animal of animal\n",
      "a photo of a Rhodesian_ridgeback of hunting_dog of dog of domestic_animal of animal\n",
      "a photo of a hound of hunting_dog of dog of domestic_animal of animal\n",
      "a photo of a Afghan_hound of hound of hunting_dog of dog of domestic_animal of animal\n",
      "a photo of a basset of hound of hunting_dog of dog of domestic_animal of animal\n",
      "a photo of a beagle of hound of hunting_dog of dog of domestic_animal of animal\n",
      "a photo of a bloodhound of hound of hunting_dog of dog of domestic_animal of animal\n",
      "a photo of a bluetick of hound of hunting_dog of dog of domestic_animal of animal\n",
      "a photo of a coonhound of hound of hunting_dog of dog of domestic_animal of animal\n",
      "a photo of a dachshund of hunting_dog of dog of domestic_animal of animal\n",
      "a photo of a sausage_dog of dachshund of hunting_dog of dog of domestic_animal of animal\n",
      "a photo of a foxhound of hound of hunting_dog of dog of domestic_animal of animal\n",
      "a photo of a redbone of hound of hunting_dog of dog of domestic_animal of animal\n",
      "a photo of a wolfhound of hound of hunting_dog of dog of domestic_animal of animal\n",
      "a photo of a borzoi of wolfhound of hound of hunting_dog of dog of domestic_animal of animal\n",
      "a photo of a Irish_wolfhound of wolfhound of hound of hunting_dog of dog of domestic_animal of animal\n",
      "a photo of a Ibizan_hound of hound of hunting_dog of dog of domestic_animal of animal\n",
      "a photo of a Norwegian_elkhound of hound of hunting_dog of dog of domestic_animal of animal\n",
      "a photo of a Saluki of hound of hunting_dog of dog of domestic_animal of animal\n",
      "a photo of a Scottish_deerhound of hound of hunting_dog of dog of domestic_animal of animal\n",
      "a photo of a Weimaraner of hound of hunting_dog of dog of domestic_animal of animal\n",
      "a photo of a terrier of hunting_dog of dog of domestic_animal of animal\n",
      "a photo of a bullterrier of terrier of hunting_dog of dog of domestic_animal of animal\n",
      "a photo of a Staffordshire_bullterrier of bullterrier of terrier of hunting_dog of dog of domestic_animal of animal\n",
      "a photo of a American_Staffordshire_terrier of bullterrier of terrier of hunting_dog of dog of domestic_animal of animal\n",
      "a photo of a Bedlington_terrier of terrier of hunting_dog of dog of domestic_animal of animal\n",
      "a photo of a Border_terrier of terrier of hunting_dog of dog of domestic_animal of animal\n",
      "a photo of a Kerry_blue_terrier of terrier of hunting_dog of dog of domestic_animal of animal\n",
      "a photo of a Irish_terrier of terrier of hunting_dog of dog of domestic_animal of animal\n",
      "a photo of a Norfolk_terrier of terrier of hunting_dog of dog of domestic_animal of animal\n",
      "a photo of a Norwich_terrier of terrier of hunting_dog of dog of domestic_animal of animal\n",
      "a photo of a Yorkshire_terrier of terrier of hunting_dog of dog of domestic_animal of animal\n",
      "a photo of a rat_terrier of terrier of hunting_dog of dog of domestic_animal of animal\n",
      "a photo of a Manchester_terrier of rat_terrier of terrier of hunting_dog of dog of domestic_animal of animal\n",
      "a photo of a toy_Manchester of Manchester_terrier of rat_terrier of terrier of hunting_dog of dog of domestic_animal of animal\n",
      "a photo of a fox_terrier of terrier of hunting_dog of dog of domestic_animal of animal\n",
      "a photo of a wire-haired_fox_terrier of fox_terrier of terrier of hunting_dog of dog of domestic_animal of animal\n",
      "a photo of a wirehair of terrier of hunting_dog of dog of domestic_animal of animal\n",
      "a photo of a Lakeland_terrier of wirehair of terrier of hunting_dog of dog of domestic_animal of animal\n",
      "a photo of a Welsh_terrier of wirehair of terrier of hunting_dog of dog of domestic_animal of animal\n",
      "a photo of a Sealyham_terrier of Welsh_terrier of wirehair of terrier of hunting_dog of dog of domestic_animal of animal\n",
      "a photo of a Airedale of terrier of hunting_dog of dog of domestic_animal of animal\n",
      "a photo of a cairn of terrier of hunting_dog of dog of domestic_animal of animal\n",
      "a photo of a Australian_terrier of terrier of hunting_dog of dog of domestic_animal of animal\n",
      "a photo of a Dandie_Dinmont of terrier of hunting_dog of dog of domestic_animal of animal\n",
      "a photo of a Boston_bull of terrier of hunting_dog of dog of domestic_animal of animal\n",
      "a photo of a schnauzer of terrier of hunting_dog of dog of domestic_animal of animal\n",
      "a photo of a miniature_schnauzer of schnauzer of terrier of hunting_dog of dog of domestic_animal of animal\n",
      "a photo of a giant_schnauzer of schnauzer of terrier of hunting_dog of dog of domestic_animal of animal\n",
      "a photo of a standard_schnauzer of schnauzer of terrier of hunting_dog of dog of domestic_animal of animal\n",
      "a photo of a Scotch_terrier of terrier of hunting_dog of dog of domestic_animal of animal\n",
      "a photo of a Tibetan_terrier of terrier of hunting_dog of dog of domestic_animal of animal\n",
      "a photo of a silky_terrier of terrier of hunting_dog of dog of domestic_animal of animal\n",
      "a photo of a Skye_terrier of terrier of hunting_dog of dog of domestic_animal of animal\n",
      "a photo of a soft-coated_wheaten_terrier of terrier of hunting_dog of dog of domestic_animal of animal\n",
      "a photo of a West_Highland_white_terrier of terrier of hunting_dog of dog of domestic_animal of animal\n",
      "a photo of a Lhasa of terrier of hunting_dog of dog of domestic_animal of animal\n",
      "a photo of a sporting_dog of hunting_dog of dog of domestic_animal of animal\n",
      "a photo of a bird_dog of sporting_dog of hunting_dog of dog of domestic_animal of animal\n",
      "a photo of a water_dog of sporting_dog of hunting_dog of dog of domestic_animal of animal\n",
      "a photo of a retriever of sporting_dog of hunting_dog of dog of domestic_animal of animal\n",
      "a photo of a flat-coated_retriever of retriever of sporting_dog of hunting_dog of dog of domestic_animal of animal\n",
      "a photo of a curly-coated_retriever of retriever of sporting_dog of hunting_dog of dog of domestic_animal of animal\n",
      "a photo of a golden_retriever of retriever of sporting_dog of hunting_dog of dog of domestic_animal of animal\n",
      "a photo of a Labrador_retriever of retriever of sporting_dog of hunting_dog of dog of domestic_animal of animal\n",
      "a photo of a Chesapeake_Bay_retriever of retriever of sporting_dog of hunting_dog of dog of domestic_animal of animal\n",
      "a photo of a pointer of sporting_dog of hunting_dog of dog of domestic_animal of animal\n",
      "a photo of a German_short-haired_pointer of pointer of sporting_dog of hunting_dog of dog of domestic_animal of animal\n",
      "a photo of a setter of sporting_dog of hunting_dog of dog of domestic_animal of animal\n",
      "a photo of a vizsla of pointer of sporting_dog of hunting_dog of dog of domestic_animal of animal\n",
      "a photo of a English_setter of setter of sporting_dog of hunting_dog of dog of domestic_animal of animal\n",
      "a photo of a Irish_setter of setter of sporting_dog of hunting_dog of dog of domestic_animal of animal\n",
      "a photo of a Gordon_setter of setter of sporting_dog of hunting_dog of dog of domestic_animal of animal\n",
      "a photo of a spaniel of sporting_dog of hunting_dog of dog of domestic_animal of animal\n",
      "a photo of a Brittany_spaniel of spaniel of sporting_dog of hunting_dog of dog of domestic_animal of animal\n",
      "a photo of a clumber of spaniel of sporting_dog of hunting_dog of dog of domestic_animal of animal\n",
      "a photo of a springer_spaniel of spaniel of sporting_dog of hunting_dog of dog of domestic_animal of animal\n",
      "a photo of a English_springer of springer_spaniel of spaniel of sporting_dog of hunting_dog of dog of domestic_animal of animal\n",
      "a photo of a Welsh_springer_spaniel of springer_spaniel of spaniel of sporting_dog of hunting_dog of dog of domestic_animal of animal\n",
      "a photo of a cocker_spaniel of spaniel of sporting_dog of hunting_dog of dog of domestic_animal of animal\n",
      "a photo of a Sussex_spaniel of spaniel of sporting_dog of hunting_dog of dog of domestic_animal of animal\n",
      "a photo of a water_spaniel of spaniel of sporting_dog of hunting_dog of dog of domestic_animal of animal\n",
      "a photo of a Irish_water_spaniel of water_spaniel of spaniel of sporting_dog of hunting_dog of dog of domestic_animal of animal\n",
      "a photo of a working_dog of dog of domestic_animal of animal\n",
      "a photo of a watchdog of working_dog of dog of domestic_animal of animal\n",
      "a photo of a kuvasz of watchdog of working_dog of dog of domestic_animal of animal\n",
      "a photo of a housedog of watchdog of working_dog of dog of domestic_animal of animal\n",
      "a photo of a schipperke of watchdog of working_dog of dog of domestic_animal of animal\n",
      "a photo of a shepherd_dog of working_dog of dog of domestic_animal of animal\n",
      "a photo of a Belgian_sheepdog of shepherd_dog of working_dog of dog of domestic_animal of animal\n",
      "a photo of a groenendael of Belgian_sheepdog of shepherd_dog of working_dog of dog of domestic_animal of animal\n",
      "a photo of a malinois of Belgian_sheepdog of shepherd_dog of working_dog of dog of domestic_animal of animal\n",
      "a photo of a briard of shepherd_dog of working_dog of dog of domestic_animal of animal\n",
      "a photo of a kelpie of shepherd_dog of working_dog of dog of domestic_animal of animal\n",
      "a photo of a komondor of shepherd_dog of working_dog of dog of domestic_animal of animal\n",
      "a photo of a Old_English_sheepdog of shepherd_dog of working_dog of dog of domestic_animal of animal\n",
      "a photo of a Shetland_sheepdog of shepherd_dog of working_dog of dog of domestic_animal of animal\n",
      "a photo of a collie of shepherd_dog of working_dog of dog of domestic_animal of animal\n",
      "a photo of a Border_collie of shepherd_dog of working_dog of dog of domestic_animal of animal\n",
      "a photo of a Bouvier_des_Flandres of shepherd_dog of working_dog of dog of domestic_animal of animal\n",
      "a photo of a Rottweiler of shepherd_dog of working_dog of dog of domestic_animal of animal\n",
      "a photo of a German_shepherd of shepherd_dog of working_dog of dog of domestic_animal of animal\n",
      "a photo of a police_dog of working_dog of dog of domestic_animal of animal\n",
      "a photo of a pinscher of watchdog of working_dog of dog of domestic_animal of animal\n",
      "a photo of a Doberman of pinscher of watchdog of working_dog of dog of domestic_animal of animal\n",
      "a photo of a miniature_pinscher of pinscher of watchdog of working_dog of dog of domestic_animal of animal\n",
      "a photo of a Sennenhunde of working_dog of dog of domestic_animal of animal\n",
      "a photo of a Greater_Swiss_Mountain_dog of Sennenhunde of working_dog of dog of domestic_animal of animal\n",
      "a photo of a Bernese_mountain_dog of Sennenhunde of working_dog of dog of domestic_animal of animal\n",
      "a photo of a Appenzeller of Sennenhunde of working_dog of dog of domestic_animal of animal\n",
      "a photo of a boxer of working_dog of dog of domestic_animal of animal\n",
      "a photo of a mastiff of working_dog of dog of domestic_animal of animal\n",
      "a photo of a bull_mastiff of working_dog of dog of domestic_animal of animal\n",
      "a photo of a Tibetan_mastiff of mastiff of working_dog of dog of domestic_animal of animal\n",
      "a photo of a bulldog of working_dog of dog of domestic_animal of animal\n",
      "a photo of a French_bulldog of bulldog of working_dog of dog of domestic_animal of animal\n",
      "a photo of a Great_Dane of working_dog of dog of domestic_animal of animal\n",
      "a photo of a Saint_Bernard of working_dog of dog of domestic_animal of animal\n",
      "a photo of a sled_dog of working_dog of dog of domestic_animal of animal\n",
      "a photo of a Eskimo_dog of working_dog of dog of domestic_animal of animal\n",
      "a photo of a malamute of sled_dog of working_dog of dog of domestic_animal of animal\n",
      "a photo of a Siberian_husky of sled_dog of working_dog of dog of domestic_animal of animal\n",
      "a photo of a dalmatian of dog of domestic_animal of animal\n",
      "a photo of a affenpinscher of pinscher of watchdog of working_dog of dog of domestic_animal of animal\n",
      "a photo of a basenji of dog of domestic_animal of animal\n",
      "a photo of a pug of dog of domestic_animal of animal\n",
      "a photo of a Leonberg of dog of domestic_animal of animal\n",
      "a photo of a Newfoundland of dog of domestic_animal of animal\n",
      "a photo of a Great_Pyrenees of dog of domestic_animal of animal\n",
      "a photo of a spitz of dog of domestic_animal of animal\n",
      "a photo of a Samoyed of spitz of dog of domestic_animal of animal\n",
      "a photo of a Pomeranian of spitz of dog of domestic_animal of animal\n",
      "a photo of a chow of spitz of dog of domestic_animal of animal\n",
      "a photo of a keeshond of spitz of dog of domestic_animal of animal\n",
      "a photo of a griffon of dog of domestic_animal of animal\n",
      "a photo of a corgi of dog of domestic_animal of animal\n",
      "a photo of a Pembroke of corgi of dog of domestic_animal of animal\n",
      "a photo of a Cardigan of corgi of dog of domestic_animal of animal\n",
      "a photo of a poodle of dog of domestic_animal of animal\n",
      "a photo of a toy_poodle of poodle of dog of domestic_animal of animal\n",
      "a photo of a miniature_poodle of poodle of dog of domestic_animal of animal\n",
      "a photo of a standard_poodle of poodle of dog of domestic_animal of animal\n",
      "a photo of a wild_dog of canine of carnivore of placental of mammal of vertebrate of animal\n",
      "a photo of a dingo of wild_dog of canine of carnivore of placental of mammal of vertebrate of animal\n",
      "a photo of a dhole of wild_dog of canine of carnivore of placental of mammal of vertebrate of animal\n",
      "a photo of a African_hunting_dog of wild_dog of canine of carnivore of placental of mammal of vertebrate of animal\n",
      "a photo of a prairie_dog of rodent of placental of mammal of vertebrate of animal\n",
      "a photo of a blacktail_prairie_dog of prairie_dog of rodent of placental of mammal of vertebrate of animal\n",
      "a photo of a dogie of calf of young_mammal of young of animal\n"
     ]
    }
   ],
   "source": [
    "for item in text_list:\n",
    "    print(item)"
   ]
  },
  {
   "cell_type": "code",
   "execution_count": 51,
   "id": "502e9ccd",
   "metadata": {},
   "outputs": [
    {
     "data": {
      "text/plain": [
       "'a photo of a hunting_dog of dog of domestic_animal of animal'"
      ]
     },
     "execution_count": 51,
     "metadata": {},
     "output_type": "execute_result"
    }
   ],
   "source": [
    "text_list[16]"
   ]
  },
  {
   "cell_type": "code",
   "execution_count": null,
   "id": "de26c51a",
   "metadata": {},
   "outputs": [],
   "source": []
  }
 ],
 "metadata": {
  "kernelspec": {
   "display_name": "Python 3 (ipykernel)",
   "language": "python",
   "name": "python3"
  },
  "language_info": {
   "codemirror_mode": {
    "name": "ipython",
    "version": 3
   },
   "file_extension": ".py",
   "mimetype": "text/x-python",
   "name": "python",
   "nbconvert_exporter": "python",
   "pygments_lexer": "ipython3",
   "version": "3.8.12"
  }
 },
 "nbformat": 4,
 "nbformat_minor": 5
}
